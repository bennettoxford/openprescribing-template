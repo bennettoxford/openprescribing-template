{
 "cells": [
  {
   "cell_type": "markdown",
   "id": "6cfb83b1-70a0-45d3-81c0-48aa35af3cd3",
   "metadata": {},
   "source": [
    "# Lesson 15 - use antibiotics wisely!\n",
    "\n",
    "The UK Health Security Agency developed the UK Access, Watch, Reserve, and Other classification for antibiotics (UK-AWaRe). This classification holds four categories:\n",
    "\n",
    "1. **Access antibiotics** are generally narrow-spectrum and associated with a lower risk of resistance. They are recommended as first or second choice options for common infections and should be readily available.\n",
    "2. **Watch antibiotics** are broader-spectrum with a higher resistance potential. Their use should be limited to specific indications and monitored closely.\n",
    "3. **Reserve antibiotics** are last-line treatments, often reserved for severe infections caused by multidrug-resistant organisms. These medicines require strict oversight to maintain their effectiveness.\n",
    "4. **Other**\n",
    "\n",
    "It is useful to see what fraction of all prescriptions are from the **watch** and **reserve** groups, as these should be used cautiously to reduce antibiotic resistence and hence effectiveness.\n",
    "\n",
    "You can see the results of the Bennett analysis of the UK-AWaRe [here](https://openprescribing.net/measure/aware_antibiotics/).\n",
    "\n",
    "Let's have a go at getting the data for the above ask ourselves and plotting it.\n",
    "\n",
    "## Imports and Path objects\n",
    "\n",
    "You should be happy with imports and Path objects now:"
   ]
  },
  {
   "cell_type": "code",
   "execution_count": null,
   "id": "fbd05bf8-b8fa-4bb3-8c15-94fc0701e52e",
   "metadata": {},
   "outputs": [],
   "source": [
    "from pathlib import Path\n",
    "from ebmdatalab import bq\n",
    "\n",
    "DATA_FOLDER = Path(\"data\")"
   ]
  },
  {
   "cell_type": "markdown",
   "id": "22b14f1e-4db0-4dc4-98c4-93c7f21860b0",
   "metadata": {},
   "source": [
    "And here we send off the SQL query and save the results in a csv file."
   ]
  },
  {
   "cell_type": "code",
   "execution_count": null,
   "id": "2ea7fba6-2b0b-48b7-8323-4a2d3577f9d1",
   "metadata": {},
   "outputs": [],
   "source": [
    "sql = \"\"\"\n",
    "-- Get the month, aware (access, watch and reserve) and sum of items\n",
    "SELECT month, aware, SUM(items) AS items\n",
    "\n",
    "-- Use the below database table\n",
    "FROM measures.vw__aware_abx\n",
    "\n",
    "-- Pick out only rows where aware is either Access, Watch or Reserve\n",
    "WHERE aware IN ('Access','Watch','Reserve')\n",
    "\n",
    "-- We group our results first by month and then a sub-group of aware value\n",
    "GROUP BY month, aware\n",
    "\n",
    "-- We finally order by month and then aware\n",
    "ORDER BY month, aware\n",
    "\"\"\"\n",
    "\n",
    "raw = bq.cached_read(sql, DATA_FOLDER / \"aware_raw.csv\", use_cache=True)\n",
    "                    \n",
    "raw"
   ]
  },
  {
   "cell_type": "markdown",
   "id": "6082df5d-efe5-4296-8ad0-3d30b6590254",
   "metadata": {},
   "source": [
    "## Let's clean up those dates\n",
    "\n",
    "The date and time values `2010-08-01 00:00:00+00:00` look a little messy, let's get ride of the time value:"
   ]
  },
  {
   "cell_type": "code",
   "execution_count": null,
   "id": "41e98c34-0317-412a-a8e1-165b9b85d530",
   "metadata": {},
   "outputs": [],
   "source": [
    "import pandas as pd\n",
    "\n",
    "raw[\"month\"] = pd.to_datetime(raw[\"month\"], utc=True).dt.tz_convert(None).dt.date\n",
    "\n",
    "raw"
   ]
  },
  {
   "cell_type": "markdown",
   "id": "ed88b348-ea51-48e1-aba4-197f0d3bcf5d",
   "metadata": {},
   "source": [
    "## Go wide!\n",
    "\n",
    "This bit is magical, well almost. What we do here is 3-staged:\n",
    "```python\n",
    "raw.pivot(index=\"month\", columns=\"aware\", values=\"items\")\n",
    "```\n",
    "In the above code, we take the `raw` data, cluster all of the `aware` values associated with the same date and put them in new columns\n",
    "\n",
    "```python\n",
    ".fillna(0)\n",
    "```\n",
    "\n",
    "This bit of code fills in data that is missing with a zero `0`.\n",
    "\n",
    "```python\n",
    ".reset_index()\n",
    "```\n",
    "\n",
    "This last bit of code puts the month in its own column (useful for calculations later).\n",
    "\n",
    "Putting the data in this `wide format` helps us prepare the data to then plot it out."
   ]
  },
  {
   "cell_type": "code",
   "execution_count": null,
   "id": "9a283847-97f7-4515-a150-d20994ec9f12",
   "metadata": {},
   "outputs": [],
   "source": [
    "wide_format = (\n",
    "    raw.pivot(index=\"month\", columns=\"aware\", values=\"items\")\n",
    "    .fillna(0)\n",
    "    .reset_index()\n",
    ")\n",
    "\n",
    "wide_format"
   ]
  },
  {
   "cell_type": "markdown",
   "id": "bdbc254e-49c0-4b31-ae37-d5b9fb119d99",
   "metadata": {},
   "source": [
    "## Hold the phone!\n",
    "\n",
    "**Now just to make things** more interesting, and also to fit everything into the standard screen width, we have used parentheses `( )` to enable us to place the code over several lines instead of just one line. We will do this in a few places to keep you on your toes! But trust me, it is for your own good!"
   ]
  },
  {
   "cell_type": "markdown",
   "id": "b544ef74-2975-47db-8f71-6bd7383e6a4f",
   "metadata": {},
   "source": [
    "## Numerator\n",
    "\n",
    "Let's calculate the numerators. As you can see this is done by adding the sum of `Watch` and `Reserve` items."
   ]
  },
  {
   "cell_type": "code",
   "execution_count": null,
   "id": "27894c26-b25f-4805-a216-f2959aeb2bc0",
   "metadata": {},
   "outputs": [],
   "source": [
    "wide_format[\"numerator_items\"] = wide_format[\"Watch\"] + wide_format[\"Reserve\"]"
   ]
  },
  {
   "cell_type": "markdown",
   "id": "56c85712-43af-445c-9955-c286ee9bb094",
   "metadata": {},
   "source": [
    "## Denominator\n",
    "\n",
    "Let's calculate the denominators. As you can see this is the sum of all three aware types that we have at hand (ie `Access`, `Watch` and `Reserve`)."
   ]
  },
  {
   "cell_type": "code",
   "execution_count": null,
   "id": "4de123c1-4ec7-4847-a3cc-9ba4db4942fa",
   "metadata": {},
   "outputs": [],
   "source": [
    "wide_format[\"denominator_items\"] = (\n",
    "    wide_format[\"Access\"] \n",
    "    + wide_format[\"Watch\"] \n",
    "    + wide_format[\"Reserve\"]\n",
    ")"
   ]
  },
  {
   "cell_type": "markdown",
   "id": "a128d099-2f57-4078-abf4-1114caec4b65",
   "metadata": {},
   "source": [
    "## Fraction and the percentages\n",
    "\n",
    "Here we are working out fractions:\n",
    "\n",
    "```python\n",
    "wide_format[\"numerator_items\"]\n",
    "    .div(wide_format[\"denominator_items\"])\n",
    "```\n",
    "\n",
    "And then multiplying by 100 to get a percentage:\n",
    "\n",
    "```python\n",
    ".mul(100)\n",
    "```\n",
    "\n",
    "And then rounding up to 2 decimal points"
   ]
  },
  {
   "cell_type": "code",
   "execution_count": null,
   "id": "535297a7-41e6-4a45-992c-7d6b5792efdf",
   "metadata": {},
   "outputs": [],
   "source": [
    "wide_format[\"percent_watch_aware\"] = (\n",
    "    wide_format[\"numerator_items\"]\n",
    "    .div(wide_format[\"denominator_items\"])\n",
    "    .mul(100)\n",
    "    .round(1)\n",
    ")\n",
    "\n",
    "wide_format"
   ]
  },
  {
   "cell_type": "markdown",
   "id": "61a06cef-1fda-4dff-8077-86162aa7ba2b",
   "metadata": {},
   "source": [
    "## Clean it up!\n",
    "\n",
    "Let's remove all of the columns we no longer need as we have calculated what we need to next plot out the data. We do this by stating what columns we need in square brackets within square brackets."
   ]
  },
  {
   "cell_type": "code",
   "execution_count": null,
   "id": "713d4ac5-7a5e-42a2-86b8-e8a73f98665b",
   "metadata": {},
   "outputs": [],
   "source": [
    "final_data = wide_format[[\"month\", \"percent_watch_aware\"]]\n",
    "\n",
    "final_data"
   ]
  },
  {
   "cell_type": "markdown",
   "id": "b3f65d16-62d3-4dfc-9012-07750dc860e4",
   "metadata": {},
   "source": [
    "## Show us the goods!\n",
    "\n",
    "Next we ask the kind `matplotlib` library to make a plot of our data."
   ]
  },
  {
   "cell_type": "code",
   "execution_count": null,
   "id": "ef17fc17-d1ec-484a-a5ad-ae4693ce0f26",
   "metadata": {},
   "outputs": [],
   "source": [
    "import matplotlib.pyplot as plt\n",
    "\n",
    "# We create an `axes` object to put out data into\n",
    "# This is a slightly different way to plot our data than in lesson 14, but it still works!\n",
    "ax = final_data.plot(\n",
    "    x=\"month\",\n",
    "    y=\"percent_watch_aware\",\n",
    "    kind=\"line\",\n",
    "    legend=False\n",
    ")\n",
    "\n",
    "# We set out x and y axis labels\n",
    "ax.set_ylabel(\"Percentage of Watch & Reserve\")\n",
    "ax.set_xlabel(\"Time\")\n",
    "\n",
    "# We add a nice title\n",
    "ax.set_title(\"AWaRe stewardship over time\")\n",
    "\n",
    "# Plot it!\n",
    "plt.show()"
   ]
  }
 ],
 "metadata": {
  "kernelspec": {
   "display_name": "Python 3 (ipykernel)",
   "language": "python",
   "name": "python3"
  },
  "language_info": {
   "codemirror_mode": {
    "name": "ipython",
    "version": 3
   },
   "file_extension": ".py",
   "mimetype": "text/x-python",
   "name": "python",
   "nbconvert_exporter": "python",
   "pygments_lexer": "ipython3",
   "version": "3.12.11"
  }
 },
 "nbformat": 4,
 "nbformat_minor": 5
}
