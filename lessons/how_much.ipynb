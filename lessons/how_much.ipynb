{
 "cells": [
  {
   "cell_type": "markdown",
   "id": "4822f843-c6dc-475e-a2f2-2dd7709dfc5e",
   "metadata": {},
   "source": [
    "# How much?!?\n",
    "\n",
    "The below code can help you predict how much data and how much cost there is behind your SQL query on BigQuery.\n",
    "\n",
    "Run the two code blocks below after you have added your SQL query to the second one."
   ]
  },
  {
   "cell_type": "code",
   "execution_count": null,
   "id": "1209a5a8-dd77-4595-8d3e-e97dab075d7d",
   "metadata": {},
   "outputs": [],
   "source": [
    "import os\n",
    "import json\n",
    "from google.cloud import bigquery\n",
    "from google.oauth2 import service_account\n",
    "\n",
    "def estimate_query_cost(sql: str, price_per_tb: float = 6.25):\n",
    "    \"\"\"\n",
    "    Estimate how much a BigQuery SQL query will cost using a dry run.\n",
    "\n",
    "    Args:\n",
    "        sql (str): The SQL query to estimate.\n",
    "        price_per_tb (float): Cost per TB scanned in USD (default $5.00).\n",
    "\n",
    "    Returns:\n",
    "        dict: A dictionary with bytes scanned, GB, TB, and estimated USD cost.\n",
    "    \"\"\"\n",
    "    # Load credentials from Codespaces secret (JSON string)\n",
    "    creds_json = os.environ[\"BQ_CREDENTIALS\"]\n",
    "    creds_info = json.loads(creds_json)\n",
    "    creds = service_account.Credentials.from_service_account_info(creds_info)\n",
    "\n",
    "    # Create BigQuery client\n",
    "    client = bigquery.Client(credentials=creds, project=creds.project_id)\n",
    "\n",
    "    # Dry run job\n",
    "    job_config = bigquery.QueryJobConfig(dry_run=True, use_query_cache=False)\n",
    "    job = client.query(sql, job_config=job_config)\n",
    "\n",
    "    bytes_scanned = job.total_bytes_processed\n",
    "    gb = bytes_scanned / (1024**3)\n",
    "    tb = bytes_scanned / (1024**4)\n",
    "    estimated_cost = tb * price_per_tb\n",
    "\n",
    "    print(\"Estimated size to scan:\")\n",
    "    print(f\"{bytes_scanned/1024:,.0f} KB\")\n",
    "    print(f\"{gb:,.0f} GB\")\n",
    "    print(f\"{tb:.4f} TB\")\n",
    "    print(\"\")\n",
    "    print(f\"Estimated cost: ${estimated_cost:.4f} (at ${price_per_tb}/TB)\")\n",
    "    return"
   ]
  },
  {
   "cell_type": "markdown",
   "id": "cf11be06-f0f7-4792-9f2b-3c26628ac3e7",
   "metadata": {},
   "source": [
    "Place your SQL query in the function call below to get an estimate of size and cost"
   ]
  },
  {
   "cell_type": "code",
   "execution_count": null,
   "id": "d78047c4-1f7e-4e99-a8f2-a4c4c1848502",
   "metadata": {},
   "outputs": [],
   "source": [
    "sql = \"\"\"\n",
    "[put your SQL query here!]\n",
    "\"\"\"\n",
    "\n",
    "estimate_query_cost(sql)"
   ]
  }
 ],
 "metadata": {
  "kernelspec": {
   "display_name": "Python 3 (ipykernel)",
   "language": "python",
   "name": "python3"
  },
  "language_info": {
   "codemirror_mode": {
    "name": "ipython",
    "version": 3
   },
   "file_extension": ".py",
   "mimetype": "text/x-python",
   "name": "python",
   "nbconvert_exporter": "python",
   "pygments_lexer": "ipython3",
   "version": "3.12.11"
  }
 },
 "nbformat": 4,
 "nbformat_minor": 5
}
