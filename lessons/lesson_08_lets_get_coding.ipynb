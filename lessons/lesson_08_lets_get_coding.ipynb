{
 "cells": [
  {
   "cell_type": "markdown",
   "id": "654ee864-b38a-4571-8b40-75a6958022e8",
   "metadata": {},
   "source": [
    "# Lesson 8 - let's get coding!\n",
    "\n",
    "Let's recap what we can now do:\n",
    "\n",
    "1. Create a Github account\n",
    "2. Create a new repo from the OpenPrescribing template\n",
    "3. Open up a Codespace session from this new repo\n",
    "4. Open up JupyterLabs\n",
    "5. Follow the steps in the Notebooks\n",
    "6. Write some markdown\n",
    "7. Use Git to save both locally and back to GitHub our repo changes\n",
    "\n",
    "Not bad! Let's learn something new. How about code?"
   ]
  },
  {
   "cell_type": "markdown",
   "id": "1b33b2ab-9a00-4bab-9846-9c26a1ecf380",
   "metadata": {},
   "source": [
    "Now coding is not as scary as it sounds. Yes you can make all sorts of things with code, making computers automate things, calculate things, say and play whatever you like. At the Bennett Institute, we like to use code to better understand the complex data that we collect. The data in the OpenPrescribing datasets (a collection of different types of data) gives us lots of insight into how we prescibe for our patients in the NHS, both in GP practices and now in hospitals. We will learn more about `OpenPrescribing` and its new brother `OpenPrescribing Hospitals` in later lessons. First of all, let's get you doing some really simple coding examples..."
   ]
  },
  {
   "attachments": {
    "7625187c-6a44-4832-9141-58714383bc03.png": {
     "image/png": "[encoded data removed]"
    }
   },
   "cell_type": "markdown",
   "id": "066c4d6a-2046-4475-8ceb-68db541bee29",
   "metadata": {},
   "source": [
    "## Exercise 1 - print that thing!\n",
    "\n",
    "Whenever someone learns a new coding language, the first thing anyone does is write some code that prints out `Hello World!`. To `print out` is basically when a computer outputs some text to the screen for you.\n",
    "\n",
    "So, let's get you doing some coding. You can see a small snippet of code below. Click on the cell below, termed a `code cell` and then hit the run button on the bar above (it looks like the button below):\n",
    "\n",
    "![image.png](attachment:7625187c-6a44-4832-9141-58714383bc03.png)"
   ]
  },
  {
   "cell_type": "code",
   "execution_count": null,
   "id": "d815d3a7-e67f-4c57-8e65-14350874aed3",
   "metadata": {},
   "outputs": [],
   "source": [
    "print(\"Hello World!\")"
   ]
  },
  {
   "cell_type": "markdown",
   "id": "4e293f34-537b-4d75-8b34-ea4f71468e01",
   "metadata": {},
   "source": [
    "Did that work? Did you see the words `Hello World!` printing in all of its glory underneath the code snippet? If so, that is great, you ran your first piece of code. If you did not see a print out, please ask a friend (likely someone sitting next to you that has used JupyterLabs before).\n",
    "\n",
    "By the way, the `print` word, followed by brackets `( )` is a `function`. You will hear more about functions later.\n",
    "\n",
    "Ready to try out some more code?"
   ]
  },
  {
   "cell_type": "markdown",
   "id": "b5a8a89d-72d7-4a19-ba97-de80c1c178e4",
   "metadata": {},
   "source": [
    "## Exercise 2 - let's add that up\n",
    "\n",
    "Don't worry, we are not going to make you do any advanced quantum computing, calculus or algebra. Run each of the cells below and see what results you get."
   ]
  },
  {
   "cell_type": "code",
   "execution_count": null,
   "id": "a820bece-9df2-47cd-8104-589abf749bb0",
   "metadata": {},
   "outputs": [],
   "source": [
    "2 + 2"
   ]
  },
  {
   "cell_type": "code",
   "execution_count": null,
   "id": "7ef10d02-4f2e-4721-9630-2add76c26380",
   "metadata": {},
   "outputs": [],
   "source": [
    "10 - 3"
   ]
  },
  {
   "cell_type": "code",
   "execution_count": null,
   "id": "6ca0337a-fe6f-4f53-a9e7-3692dec46b42",
   "metadata": {},
   "outputs": [],
   "source": [
    "4 * 7"
   ]
  },
  {
   "cell_type": "code",
   "execution_count": null,
   "id": "bd0383aa-753e-45a5-9896-87bfad19550c",
   "metadata": {},
   "outputs": [],
   "source": [
    "(10 + 5) / 2"
   ]
  },
  {
   "cell_type": "markdown",
   "id": "472ea18d-befc-4af8-a9ba-a81c01d510a5",
   "metadata": {},
   "source": [
    "Did the outputs make sense to you. I hope so. Shall we move on?"
   ]
  },
  {
   "cell_type": "markdown",
   "id": "0c1092b3-f2c2-454b-8317-3fe256510b26",
   "metadata": {},
   "source": [
    "## Exercise 3 - print more than one thing!\n",
    "\n",
    "What happens when you run the cell below? Why is the output only 3? Why did you not get `100` and also `3`?"
   ]
  },
  {
   "cell_type": "code",
   "execution_count": null,
   "id": "132e0c43-84d5-4036-8d84-00e0f7959737",
   "metadata": {},
   "outputs": [],
   "source": [
    "10 * 10\n",
    "1 * 3"
   ]
  },
  {
   "cell_type": "markdown",
   "id": "a483bf64-bf1b-4bc2-a3b9-33426d40b1ad",
   "metadata": {},
   "source": [
    "What JupyterLabs does is that it only prints to screen the last line of code. It will also only do this if you do not assign the value to anything (more on that later). So as `1 * 3` (eg 1 time 3) is the last line, only the number `3` is printed to screen. Now if you want to print both equations to screen, we can use the `print` function, like we did in **Exercise 1**. Try running the cell below."
   ]
  },
  {
   "cell_type": "code",
   "execution_count": null,
   "id": "bba86cc3-5b66-47b5-943f-b0516a89c2c6",
   "metadata": {},
   "outputs": [],
   "source": [
    "print(10 * 10)\n",
    "print(1 * 3)"
   ]
  },
  {
   "cell_type": "markdown",
   "id": "1e1d125b-20d1-44be-9313-498ec43a6696",
   "metadata": {},
   "source": [
    "## Exercise 4 - store that thing!\n",
    "\n",
    "It can be very useful to store the result from a calculation to then use later in your analysis of data. You can do this by storing the results of a calculation in a variable, and then using the value stored in that variable later on. Storing a value in a variable is called `assigning`. Try running the below cell to try it out."
   ]
  },
  {
   "cell_type": "code",
   "execution_count": null,
   "id": "7fe86a6b-8a0a-4ade-8b67-6fc49d5eaa76",
   "metadata": {},
   "outputs": [],
   "source": [
    "number_of_bananas = 25\n",
    "number_of_bananas_eaten = 5\n",
    "number_of_bananas_to_share = number_of_bananas - number_of_bananas_eaten\n",
    "number_of_people_to_share_with = 4\n",
    "number_of_bananas_each = number_of_bananas_to_share / number_of_people_to_share_with\n",
    "\n",
    "print(number_of_bananas_each)"
   ]
  },
  {
   "cell_type": "markdown",
   "id": "f0f618b5-89f9-4b41-9745-0115d672c207",
   "metadata": {},
   "source": [
    "How did that go? Did you get an output of five bananas each? Also, did you notice the names of these variables and how they use underscores (eg _) between words. This underlying between words is called `snake case`. This is the preferred variable naming convention for the `python` programmming lanugage, which you have just been using. \n",
    "\n",
    "> Makes sense to me to use 'snake case' for a python language!\n",
    "\n",
    "Something else to notice with variable names, like `number_of_bananas` is that there is no spaces within the variable name. If you try and place spaces inside the variable name, for example `number of bananas`, then this will cause an error and the code will not work."
   ]
  },
  {
   "cell_type": "markdown",
   "id": "e048898f-bfea-41ba-92b1-c143e2be3381",
   "metadata": {},
   "source": [
    "## Exercise 5 - how long is a piece of string?\n",
    "\n",
    "So you can store all sorts of things in variables. The next `type` of variable you can store in for future use are `strings`. Strings are basically a collection of characters stored in memory on your computer (or on Codespace in our case) that represent something like a word. So `house`, `car` and `bike` are all collections of letters of the alphabet which represent a word (eg h, o, u, s and e for house).\n",
    "\n",
    "Below is some code storing a name and then printing it. Can you change the the variable `name` to your own name? Once you have done that, run the cell and see what is the output."
   ]
  },
  {
   "cell_type": "code",
   "execution_count": null,
   "id": "68ff140e-e7e7-40c4-947e-479da80c07ea",
   "metadata": {},
   "outputs": [],
   "source": [
    "name = \"some body\"\n",
    "print(name)"
   ]
  },
  {
   "cell_type": "markdown",
   "id": "084ba6ca-6b91-4ac1-994c-8e5466c8fdb1",
   "metadata": {},
   "source": [
    "If you don't like double quotation marks, try out single ones."
   ]
  },
  {
   "cell_type": "code",
   "execution_count": null,
   "id": "524bcb91-5d35-493c-a3ad-ac3c995f0e7e",
   "metadata": {},
   "outputs": [],
   "source": [
    "name = 'some body'\n",
    "print(name)"
   ]
  },
  {
   "cell_type": "markdown",
   "id": "daf370b6-49bf-4af0-8252-4699b5106630",
   "metadata": {},
   "source": [
    "You can also have strings that spand several lines if you like. Just use triple quotation marks. Try running the code below."
   ]
  },
  {
   "cell_type": "code",
   "execution_count": null,
   "id": "ef520789-0d89-4f5d-b86e-4f2bfa357634",
   "metadata": {},
   "outputs": [],
   "source": [
    "address_1 = \"\"\"\n",
    "High Court\n",
    "High Street\n",
    "BestTon\n",
    "BT14 7GG\n",
    "\"\"\"\n",
    "\n",
    "address_2 = '''\n",
    "Willow Tree Cottage\n",
    "Narrow Lanes\n",
    "SleepyLett\n",
    "SL33 8FH\n",
    "'''\n",
    "\n",
    "print(address_1)\n",
    "print(address_2)"
   ]
  },
  {
   "cell_type": "markdown",
   "id": "6d1aecd4-48b1-4603-9862-ed86d01267d4",
   "metadata": {},
   "source": [
    "## Exercise 6 - lists\n",
    "\n",
    "A `list` is a collection of, well what ever you like. We use square brackets `[` and `]` around a comma separated list of numbers, or strings, or other things...\n",
    "\n",
    "Replace the zeros in the list below with increasing even numbers, starting from 2."
   ]
  },
  {
   "cell_type": "code",
   "execution_count": null,
   "id": "b34a671f-7d94-4f07-9118-0d1fbf41a340",
   "metadata": {},
   "outputs": [],
   "source": [
    "numbers = [0, 0, 0, 0, 0, 0]\n",
    "print(numbers)"
   ]
  },
  {
   "cell_type": "markdown",
   "id": "c89822f3-736e-4f20-9c5d-b2e8bcdcf51e",
   "metadata": {},
   "source": [
    "If you want to print (or perhaps use in some maths) a number at a certain point in the above list, you can `reference` this number by writing out the name of the variable, followed by the position of the `element` in the list.\n",
    "\n",
    "**NB: in python (and many other languages) counting starts at `0`!**\n",
    "\n",
    "We have written code to print out the 3rd number in the even number ascending list. Can you print out the 1st?"
   ]
  },
  {
   "cell_type": "code",
   "execution_count": null,
   "id": "3a8ff48c-635e-4b96-854d-32456151e639",
   "metadata": {},
   "outputs": [],
   "source": [
    "print(numbers[2])"
   ]
  },
  {
   "cell_type": "markdown",
   "id": "3811f62e-b563-4395-9bf0-df7deca101e8",
   "metadata": {},
   "source": [
    "## Exercise 7 - true or false\n",
    "\n",
    "It can be very useful to store the state of whether something is true or false. In python we use capitalised `True` and `False`.\n",
    "\n",
    "Try changing the below `state` (what is stored inside the variable) from True to False."
   ]
  },
  {
   "cell_type": "code",
   "execution_count": null,
   "id": "a838daf8-003c-4178-95e2-152480f73206",
   "metadata": {},
   "outputs": [],
   "source": [
    "is_raining = True\n",
    "print(is_raining)"
   ]
  },
  {
   "cell_type": "markdown",
   "id": "bddc7a30-632a-4e34-a6a2-d85767728768",
   "metadata": {},
   "source": [
    "## Exercise 8 - a dictionary you say!\n",
    "\n",
    "It can be very useful to store data as `key and value pairs`. For example, you may want to store somethings about yourself.\n",
    "\n",
    "- Name: Bobby\n",
    "- Date of birth: 01/01/1899\n",
    "- Nationality: Britist\n",
    "\n",
    "In the above case, the word `Name` is the `key` and the word `Bobby` is the `value`.\n",
    "\n",
    "We use curley brackets `{` and `}` around key value pairs, like this\n",
    "\n",
    "```python\n",
    "person = {\"Name\": \"Bobby\", \"Date of birth\": \"01/01/1899\", \"Nationality\": \"British\"}\n",
    "```\n",
    "\n",
    "Notice how the keys are surrounded by quotation marks. This is very important, as not doing so will cause an error. Notice also the colon `:` between key and value pairs, and the comma `,` between collection of pairs.\n",
    "\n",
    "Update the dictionary below to reflect you (or someone fictitious)"
   ]
  },
  {
   "cell_type": "code",
   "execution_count": null,
   "id": "46bba597-7cef-4dd8-a3d4-bb570498fad5",
   "metadata": {},
   "outputs": [],
   "source": [
    "person = {\"Name\": \"Bobby\", \"Date of birth\": \"01/01/1899\", \"Nationality\": \"British\"}\n",
    "print(person)"
   ]
  },
  {
   "cell_type": "markdown",
   "id": "0a1b3867-7064-4afd-bc9f-952f01c78802",
   "metadata": {},
   "source": [
    "## All done\n",
    "\n",
    "Congrats on completing lesson 8. Please move on to lesson 9."
   ]
  }
 ],
 "metadata": {
  "kernelspec": {
   "display_name": "Python 3 (ipykernel)",
   "language": "python",
   "name": "python3"
  },
  "language_info": {
   "codemirror_mode": {
    "name": "ipython",
    "version": 3
   },
   "file_extension": ".py",
   "mimetype": "text/x-python",
   "name": "python",
   "nbconvert_exporter": "python",
   "pygments_lexer": "ipython3",
   "version": "3.12.11"
  }
 },
 "nbformat": 4,
 "nbformat_minor": 5
}
