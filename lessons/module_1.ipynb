{
 "cells": [
  {
   "cell_type": "markdown",
   "id": "75fa8fc1-e605-4ba9-aa8a-2e2c81737b1a",
   "metadata": {
    "vscode": {
     "languageId": "plaintext"
    }
   },
   "source": [
    "# Lesson one\n",
    "\n",
    "This is some text\n",
    "\n",
    "Explain in plain English what you are about to do below"
   ]
  },
  {
   "cell_type": "code",
   "execution_count": 1,
   "id": "54dab4f4-fdd4-4550-b810-9487e8a1be5e",
   "metadata": {},
   "outputs": [
    {
     "name": "stdout",
     "output_type": "stream",
     "text": [
      "Hello World!\n"
     ]
    }
   ],
   "source": [
    "print(\"Hello World!\")"
   ]
  }
 ],
 "metadata": {
  "kernelspec": {
   "display_name": "Python 3 (ipykernel)",
   "language": "python",
   "name": "python3"
  },
  "language_info": {
   "codemirror_mode": {
    "name": "ipython",
    "version": 3
   },
   "file_extension": ".py",
   "mimetype": "text/x-python",
   "name": "python",
   "nbconvert_exporter": "python",
   "pygments_lexer": "ipython3",
   "version": "3.12.11"
  }
 },
 "nbformat": 4,
 "nbformat_minor": 5
}
