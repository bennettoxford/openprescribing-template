{
 "cells": [
  {
   "cell_type": "markdown",
   "id": "34951373-5a7f-402a-828f-a334dc778cb5",
   "metadata": {},
   "source": [
    "# Hungry for more?\n",
    "\n",
    "There is lots still to learn about coding, analytics and prescribing data. Here are a few places you might want to jump straight to:\n",
    "\n",
    "- [Bennett Git and GitHub Etiquette](https://bennett.wiki/tech-group/git-and-github-etiquette/)\n",
    "- [Bennett Blogs](https://www.bennett.ox.ac.uk/blog/)"
   ]
  }
 ],
 "metadata": {
  "kernelspec": {
   "display_name": "Python 3 (ipykernel)",
   "language": "python",
   "name": "python3"
  },
  "language_info": {
   "codemirror_mode": {
    "name": "ipython",
    "version": 3
   },
   "file_extension": ".py",
   "mimetype": "text/x-python",
   "name": "python",
   "nbconvert_exporter": "python",
   "pygments_lexer": "ipython3",
   "version": "3.12.11"
  }
 },
 "nbformat": 4,
 "nbformat_minor": 5
}
