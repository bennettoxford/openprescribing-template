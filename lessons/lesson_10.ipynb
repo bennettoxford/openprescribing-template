{
 "cells": [
  {
   "cell_type": "markdown",
   "id": "18c86ed3-cbbd-4acd-8751-c1d31cd0da39",
   "metadata": {},
   "source": [
    "# Lesson 10 - Coding 102\n",
    "\n",
    "Let's remind ourselves of the code we used to fetch some data from OpenPrescribing's BigQuery database."
   ]
  },
  {
   "cell_type": "code",
   "execution_count": null,
   "id": "504ae80f-ae90-4257-877d-918a772b3209",
   "metadata": {},
   "outputs": [],
   "source": [
    "import os\n",
    "from ebmdatalab import bq\n",
    "from pathlib import Path\n",
    "\n",
    "DATA_FOLDER = Path(\"data\")\n",
    "\n",
    "sql = \"\"\"\n",
    "    SELECT code, name\n",
    "    FROM ebmdatalab.hscic.ccgs\n",
    "    WHERE name IS NOT NULL\n",
    "    GROUP BY code, name\n",
    "    \"\"\"\n",
    "\n",
    "ccg_names = bq.cached_read(sql, os.path.join(DATA_FOLDER, \"ccg_names.csv\"), use_cache=False)\n",
    "ccg_names"
   ]
  },
  {
   "cell_type": "markdown",
   "id": "e183088b-d72e-4519-bd32-d88f286cf886",
   "metadata": {},
   "source": [
    "So you have learnt what the SQL part does, eg get a list of CCG names and codes. But what are these `import` parts and this `bq.cached_read` parts. Let's jump in!"
   ]
  },
  {
   "cell_type": "markdown",
   "id": "71d2606b-147c-46c4-a361-c711d2cec3a5",
   "metadata": {},
   "source": [
    "## Imports\n",
    "\n",
    "As we have mentioned before, we are using the `python` programming langauge to do all of our database retrieval work. You can use any language you like, but `python` works well with data. Another language you may come across in the data analytics world is `R`.\n",
    "\n",
    "Most languages are shipped to your computer with certain functionality, like `print` to screen, or `store` in memory. A lot of these functionalities just work when you write them out (eg `print(\"Hello World!\")`). \n",
    "\n",
    "What happens when you write out a piece of code and `run` the code, is that the python `interpreter` reads this codes and executes (runs) it. An `interpreter` is basically a piece of software that reads your code and translates it into computer readable code that then gets executed. So writing:\n",
    "\n",
    "```python\n",
    "print(\"Hello World!\")\n",
    "```\n",
    "\n",
    "prints out\n",
    "\n",
    "```bash\n",
    "hello world\n",
    "```\n",
    "\n",
    "There is a lot of default functionality that the python language does out of the box. Sometimes however you want to use other more advanced functionalities that come in the python `toolbox`, and sometimes you want to use functionalities that you or someone else have created. This is what import is for, where you basically import the functionality you want.\n",
    "\n",
    "## Right, I am off to the library!\n",
    "\n",
    "So let's talk about the first line of the code above:\n",
    "\n",
    "```python\n",
    "import os\n",
    "```\n",
    "\n",
    "This line of code tells the python language interpreter to \"go and fetch this os library please\". The `os` library, short for `operating system`, gives your code the power to work with files and folders on your computer (or in Codespace of course). \n",
    "\n",
    "So we now have the power to manipulate files and folders, ausome stuff right?"
   ]
  },
  {
   "cell_type": "code",
   "execution_count": null,
   "id": "bc936156-ed07-4871-a5b1-dcc7f6dee061",
   "metadata": {},
   "outputs": [],
   "source": []
  }
 ],
 "metadata": {
  "kernelspec": {
   "display_name": "Python 3 (ipykernel)",
   "language": "python",
   "name": "python3"
  },
  "language_info": {
   "codemirror_mode": {
    "name": "ipython",
    "version": 3
   },
   "file_extension": ".py",
   "mimetype": "text/x-python",
   "name": "python",
   "nbconvert_exporter": "python",
   "pygments_lexer": "ipython3",
   "version": "3.12.11"
  }
 },
 "nbformat": 4,
 "nbformat_minor": 5
}
