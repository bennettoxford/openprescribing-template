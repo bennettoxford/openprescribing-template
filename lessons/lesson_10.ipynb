{
 "cells": [
  {
   "cell_type": "markdown",
   "id": "18c86ed3-cbbd-4acd-8751-c1d31cd0da39",
   "metadata": {},
   "source": [
    "# Lesson 10 - Coding 102\n",
    "\n",
    "Let's remind ourselves of the code we used to fetch some data from OpenPrescribing's BigQuery database."
   ]
  },
  {
   "cell_type": "code",
   "execution_count": null,
   "id": "504ae80f-ae90-4257-877d-918a772b3209",
   "metadata": {},
   "outputs": [],
   "source": [
    "from ebmdatalab import bq\n",
    "from pathlib import Path\n",
    "\n",
    "DATA_FOLDER = Path(\"data\")\n",
    "\n",
    "sql = \"\"\"\n",
    "    SELECT code, name\n",
    "    FROM ebmdatalab.hscic.ccgs\n",
    "    WHERE name IS NOT NULL\n",
    "    GROUP BY code, name\n",
    "    \"\"\"\n",
    "\n",
    "ccg_names = bq.cached_read(sql, DATA_FOLDER / \"ccg_names.csv\", use_cache=False)\n",
    "ccg_names"
   ]
  },
  {
   "cell_type": "markdown",
   "id": "e183088b-d72e-4519-bd32-d88f286cf886",
   "metadata": {},
   "source": [
    "So you have learnt what the SQL part does, eg get a list of CCG names and codes. But what are these `import` parts and this `bq.cached_read` parts? \n",
    "\n",
    "Let's jump in and find out!"
   ]
  },
  {
   "cell_type": "markdown",
   "id": "71d2606b-147c-46c4-a361-c711d2cec3a5",
   "metadata": {},
   "source": [
    "## Imports\n",
    "\n",
    "As we have mentioned before, we are using the `python` programming language to do all of our database retrieval work. You can use any language you like, but `python` works well with data. Another language you may come across in the data analytics world is `R`.\n",
    "\n",
    "Most languages are shipped with certain functionality, like `print` to screen, or `store` in memory. A lot of these functionalities just work when you write them out (eg `print(\"Hello World!\")`). \n",
    "\n",
    "What happens when you write out a piece of code and `run` the code, is that the python `interpreter` reads this codes and executes (runs) it. An `interpreter` is basically a piece of software that reads your code and translates it into machine readable code that then gets executed. So writing:\n",
    "\n",
    "```python\n",
    "print(\"Hello World!\")\n",
    "```\n",
    "\n",
    "is read my the python interpreter, translated into machine readable instructions and then executed to print out:\n",
    "\n",
    "```bash\n",
    "Hello World!\n",
    "```\n",
    "\n",
    "There is a lot of default functionality that the python language can do out of the box. Sometimes, however, you want to use other, more advanced, functionalities that come in the python `toolbox`, and sometimes you want to use functionalities that you or someone else have created. This is what `import` is for, where you basically **import** the extra functionality you want.\n",
    "\n",
    "## Package for Mr Robinson!\n",
    "\n",
    "If you have seen snippets of code before, you might have seen something like this:\n",
    "\n",
    "```python\n",
    "import os\n",
    "```\n",
    "\n",
    "This line of code tells the python language interpreter to \"go and fetch this os package please\". The `os` package, short for `operating system`, gives your code the power to work with files and folders on your computer (or in Codespace). The `os` package is used less in modern code, but you will still see it from time to time. Most coders now prefer the `pathlib` package to manage files and folders.\n",
    "\n",
    "NB: people use the words `package` and `library` interchangeably, but `package` is the more correct term for what you are importing.\n",
    "\n",
    "## Home grown goodness!\n",
    "\n",
    "So let's look at the next line of code:\n",
    "\n",
    "```python\n",
    "from ebmdatalab import bq\n",
    "```\n",
    "\n",
    "You will often see `import` on its own or the `from ... import ...` combo. What the combo of `from` and `import` is saying is \"from the ebmdatalab package, import the bq set of code\". In our case, the \"bq set of code\" is called a `module.\n",
    "\n",
    "By the way, if you have been looking through some of the Bennett Institute websites and GitHub repositories (look at [https://github.com/ebmdatalab](https://github.com/ebmdatalab) for example), you may have seen the term `ebmdatalab` used quite a bit. This actually stands for the `Evidence Based Medicine Datalab`. This was the name of the Bennett Institute before 2021. So the `ebmdatalab` library is a library created by the Bennett Institute! This `bq` module has been created to help users access and analyse the OpenPrescribing BigQuery data.\n",
    "\n",
    "\n",
    "## Class is in session\n",
    "\n",
    "We’ve already talked about pathlib, as a more modern alternative to `os` for file and folder management. The main class in the pathlib module is called Path, and we can import it like this:\n",
    "\n",
    "```python\n",
    "from pathlib import Path\n",
    "```\n",
    "\n",
    "## Wait a minute!\n",
    "\n",
    "If you have been paying attention, you would have noticed something interesting: sometimes we import from a package (like ebmdatalab) and sometimes from a module (like pathlib). And what we get can also be different - sometimes we get another module (bq) and sometimes it’s a class (Path).\n",
    "\n",
    "So it looks like Python lets you mix and match: different starting points (package or module) and different things at the end (module, class, function, variable).\n",
    "\n",
    "How can this be? Because in Python, the from ... import ... statement is really just saying: \n",
    "\n",
    "> Open this box, and grab something inside it.\n",
    "\n",
    "The “box” can be a folder of code (a package) or a single file (a module), and the “something inside” can be almost anything that’s been defined there.\n",
    "\n",
    "## Call me an object\n",
    "\n",
    "Now that we have imported the `Path` class, we can use it to create \"location objects\". \"What is a location object?\" I hear you say. \n",
    "\n",
    "`Objects` in most programming langauges are a collection of things and abilities.\n",
    "\n"
   ]
  }
 ],
 "metadata": {
  "kernelspec": {
   "display_name": "Python 3 (ipykernel)",
   "language": "python",
   "name": "python3"
  },
  "language_info": {
   "codemirror_mode": {
    "name": "ipython",
    "version": 3
   },
   "file_extension": ".py",
   "mimetype": "text/x-python",
   "name": "python",
   "nbconvert_exporter": "python",
   "pygments_lexer": "ipython3",
   "version": "3.12.11"
  }
 },
 "nbformat": 4,
 "nbformat_minor": 5
}
