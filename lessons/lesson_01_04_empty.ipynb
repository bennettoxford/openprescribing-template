{
 "cells": [
  {
   "cell_type": "markdown",
   "id": "75fa8fc1-e605-4ba9-aa8a-2e2c81737b1a",
   "metadata": {
    "vscode": {
     "languageId": "plaintext"
    }
   },
   "source": [
    "# Lesson 1 - 4\n",
    "\n",
    "Please go to [https://bennett.wiki/teaching/openprescribing/](https://bennett.wiki/teaching/openprescribing/) to undertake lessons 1-4."
   ]
  }
 ],
 "metadata": {
  "kernelspec": {
   "display_name": "Python 3 (ipykernel)",
   "language": "python",
   "name": "python3"
  },
  "language_info": {
   "codemirror_mode": {
    "name": "ipython",
    "version": 3
   },
   "file_extension": ".py",
   "mimetype": "text/x-python",
   "name": "python",
   "nbconvert_exporter": "python",
   "pygments_lexer": "ipython3",
   "version": "3.12.11"
  }
 },
 "nbformat": 4,
 "nbformat_minor": 5
}
