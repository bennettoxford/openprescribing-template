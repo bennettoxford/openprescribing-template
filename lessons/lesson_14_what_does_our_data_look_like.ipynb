{
 "cells": [
  {
   "cell_type": "markdown",
   "id": "7713a3a7-f104-4bfd-b3ec-17f7c6af6605",
   "metadata": {},
   "source": [
    "# Lesson 14 - what does our data look like?\n",
    "\n",
    "In lesson 13 you printed out a percentage for how well the NHS is prescribing 5 days of 500 mg Amoxicillin. However, this only gave you an average over all of the data available. The results from lesson 13 did not `show` you how things were improving, worsening or even static over time. For this, you need to plot out the data over time. Let's do just that.\n",
    "\n",
    "First let's import some components you have seen before and create a Path object to the \"data\" folder. We wont add comments to code that you have seen before!\n",
    "\n",
    "P.S. If you click on the `Run` menu at the top of JupyterLabs and then on `Run All Cells`, then all of the code below will be run and you will hopefully get a nice plot. Check it out. Afterwards, come back up to the top here and we can walk through the code together."
   ]
  },
  {
   "cell_type": "code",
   "execution_count": null,
   "id": "2d77bd88-9b07-481d-bd53-fde8d9494304",
   "metadata": {},
   "outputs": [],
   "source": [
    "from pathlib import Path\n",
    "from ebmdatalab import bq\n",
    "\n",
    "DATA_FOLDER = Path(\"data\")"
   ]
  },
  {
   "cell_type": "code",
   "execution_count": null,
   "id": "4ec5f78f-133f-495c-aebd-6c3ece245bb3",
   "metadata": {},
   "outputs": [],
   "source": [
    "denominator_sql = \"\"\"\n",
    "    -- get the month and sum of items, with an alias of denominator_items\n",
    "    SELECT month, SUM(items) AS denominator_items\n",
    "    -- from the raw_prescribing_normalised table\n",
    "    FROM `ebmdatalab.hscic.raw_prescribing_normalised`\n",
    "    --  where the amoxicillin bnf_code is \n",
    "    WHERE bnf_code LIKE '0501013B0%AB'\n",
    "    -- group by month\n",
    "    GROUP BY month\n",
    "    -- order by month\n",
    "    ORDER BY month\n",
    "\"\"\"\n",
    "\n",
    "denominator = bq.cached_read(denominator_sql, DATA_FOLDER / \"amoxicillin_denominator_by_month.csv\", use_cache=True)\n",
    "denominator"
   ]
  },
  {
   "cell_type": "code",
   "execution_count": null,
   "id": "8815f0ae-a3f0-478d-bdac-d30fece6a9c6",
   "metadata": {},
   "outputs": [],
   "source": [
    "numerator_sql = \"\"\"\n",
    "    SELECT month, SUM(items) AS numerator_items\n",
    "    FROM `ebmdatalab.hscic.raw_prescribing_normalised`\n",
    "    -- Only difference here is that we look for order quantities of 15.\n",
    "    WHERE bnf_code LIKE '0501013B0%AB' AND quantity_per_item = 15\n",
    "    GROUP BY month\n",
    "    ORDER BY month\n",
    "\"\"\"\n",
    "\n",
    "numerator = bq.cached_read(numerator_sql, DATA_FOLDER / \"amoxicillin_numerator_by_month.csv\", use_cache=True)\n",
    "numerator"
   ]
  },
  {
   "cell_type": "code",
   "execution_count": null,
   "id": "52b941fe-2b34-46c9-8f45-cd2497042507",
   "metadata": {},
   "outputs": [],
   "source": [
    "import pandas as pd\n",
    "\n",
    "# Here we are tidying up the data\n",
    "\n",
    "# First we convert dates and times into a standard pandas data and time\n",
    "denominator[\"month\"] = pd.to_datetime(denominator[\"month\"])\n",
    "\n",
    "# Then we loop through the columns in the data\n",
    "for col in denominator.columns:\n",
    "    #  We look only for the denominator_items column\n",
    "    if col == \"denominator_items\":\n",
    "        # We then convert the items in this column into numbers. If the item cannot be converted, then we store an NaN value.\n",
    "        # The \"coerce\" pushes for NaN if there is a conversion error.\n",
    "        denominator[col] = pd.to_numeric(denominator[col], errors=\"coerce\")\n",
    "\n",
    "denominator"
   ]
  },
  {
   "cell_type": "code",
   "execution_count": null,
   "id": "becbd6fd-208c-4385-a003-f8989f258e76",
   "metadata": {},
   "outputs": [],
   "source": [
    "# We do the same here, as above, with the numerators\n",
    "numerator[\"month\"] = pd.to_datetime(numerator[\"month\"])\n",
    "for col in numerator.columns:\n",
    "    if col == \"numerator_items\":\n",
    "        numerator[col] = pd.to_numeric(numerator[col], errors=\"coerce\")\n",
    "\n",
    "numerator"
   ]
  },
  {
   "cell_type": "markdown",
   "id": "f1671bbb-b4ae-4291-bb71-360c30a0aea4",
   "metadata": {},
   "source": [
    "## Hold your horses!\n",
    "\n",
    "What is this new keyword `for`?\n",
    "\n",
    "What is this `NaN` thing?\n",
    "\n",
    "### for loops\n",
    "\n",
    "When we doing things in code, like life, we often need to do things over and over: we loop over things. Much like brushing our teeth in the mornings, back and forth, back and forth, there is a repeating loop. Or perhaps mixing your eggs for your morning omelet, mix, mix mix, until your eggs are completely mixed. Well we use the same kind of logic for loops in code. We can say \"loop over these things until some state is obtained\" or we can say \"for these things here, do this other thing\". The python `for loop` uses the second idea. To use a for loop, you state what items you want to loop through, and you assign each item to a temporary variable. You then under take some task on said item. So for \n",
    "\n",
    "```python\n",
    "for col in denominator.columns:\n",
    "```\n",
    "    \n",
    "you are saying, for all of the items in `denominator's columns`, store each item as `col`. Then we do something for each item (eg an `if statement` and a `number conversion`).\n",
    "\n",
    "\n",
    "### NaN\n",
    "\n",
    "`Not a Number`. That is all it stands for. We use it in computing when we have some value that is not number, or cannot be converted to a number. Simples!\n",
    "\n",
    "## Moving on\n",
    "\n",
    "Now we are going to combine the data from the two pandas, denominator and numerator, with `pd.merge`:"
   ]
  },
  {
   "cell_type": "code",
   "execution_count": null,
   "id": "cb33a157-784a-45f5-ba32-eb55c90c0a4a",
   "metadata": {},
   "outputs": [],
   "source": [
    "df = pd.merge(denominator, numerator, on=\"month\", how=\"outer\")\n",
    "df"
   ]
  },
  {
   "cell_type": "markdown",
   "id": "558b27a2-1a5b-4d52-9ca8-d810f76489df",
   "metadata": {},
   "source": [
    "And now we convert any `NaN`s into zeros `0` by using `fillna`:"
   ]
  },
  {
   "cell_type": "code",
   "execution_count": null,
   "id": "d8594811-65ec-43e8-9598-b21d7c758982",
   "metadata": {},
   "outputs": [],
   "source": [
    "df[[\"denominator_items\", \"numerator_items\"]] = df[[\"denominator_items\", \"numerator_items\"]].fillna(0)\n",
    "df"
   ]
  },
  {
   "cell_type": "code",
   "execution_count": null,
   "id": "8f498bc8-2010-4b1f-b3d8-a32013d1db9b",
   "metadata": {},
   "outputs": [],
   "source": [
    "def safe_fraction(r):\n",
    "    if r[\"denominator_items\"] != 0:\n",
    "        return r[\"numerator_items\"] / r[\"denominator_items\"]\n",
    "    else:\n",
    "        return 0\n",
    "\n",
    "df[\"fraction\"] = df.apply(safe_fraction, axis=1)\n",
    "\n",
    "df[\"percentage\"] = df[\"fraction\"] * 100"
   ]
  },
  {
   "cell_type": "markdown",
   "id": "b27dd363-83b5-462e-be8e-e72b8c3d6ce7",
   "metadata": {},
   "source": [
    "## What did we do there?\n",
    "\n",
    "So we want to get the fraction of `numerator` divided by `denominator` for each row in the panda dataset. We do this by using hte `df.apply` function, that states, use a function (safe_function in our case) and apply it to each row (axis=1)\n",
    "\n",
    "*NB: axis=0 would apply our function to the columns instead.*\n",
    "\n",
    "We have build a function called `safe_fraction` to make sure we are not dividing numbers by zero. This causes a huge error in most programming language. Can you work out how it does this? Hint `!=` means \"not equal to\" and the \"else\" keyword states \"do this other thing if the `is statement` is false\"."
   ]
  },
  {
   "cell_type": "markdown",
   "id": "1760e15a-ce20-4bcc-b080-f99044eaded3",
   "metadata": {},
   "source": [
    "## Now plot it!"
   ]
  },
  {
   "cell_type": "code",
   "execution_count": null,
   "id": "f33d2686-1268-489c-9c59-905301a29c47",
   "metadata": {},
   "outputs": [],
   "source": [
    "# Here we import the plotting matplotlib module pyplot and store it under the alias `plt`\n",
    "import matplotlib.pyplot as plt\n",
    "\n",
    "#  Here we import PercentFormatter\n",
    "from matplotlib.ticker import PercentFormatter\n",
    "\n",
    "# Let's create a plot in the computer's memory\n",
    "# Let's make this plot 10 inches wide and 5 inches tall\n",
    "plt.figure(figsize=(10, 5))\n",
    "\n",
    "# Now we plot month on the x-axis and percentage on the y-axis\n",
    "# We use the circular marker for our date (via marker=\"o\"\n",
    "plt.plot(df[\"month\"], df[\"percentage\"], marker=\"o\")\n",
    "\n",
    "# We need a title\n",
    "plt.title(\"Graph of percentage of 5 days Amoxicillin perscriptions vs date\")\n",
    "\n",
    "# We need to label the axes\n",
    "plt.xlabel(\"Month\")\n",
    "plt.ylabel(\"Percentage of 5 days Amoxicillin prescriptions\")\n",
    "\n",
    "# Let's make the plot fit nicely in JupyterLabs\n",
    "plt.tight_layout()\n",
    "\n",
    "# Now show the plot!\n",
    "plt.show()"
   ]
  }
 ],
 "metadata": {
  "kernelspec": {
   "display_name": "Python 3 (ipykernel)",
   "language": "python",
   "name": "python3"
  },
  "language_info": {
   "codemirror_mode": {
    "name": "ipython",
    "version": 3
   },
   "file_extension": ".py",
   "mimetype": "text/x-python",
   "name": "python",
   "nbconvert_exporter": "python",
   "pygments_lexer": "ipython3",
   "version": "3.12.11"
  }
 },
 "nbformat": 4,
 "nbformat_minor": 5
}
