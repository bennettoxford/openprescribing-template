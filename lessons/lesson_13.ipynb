{
 "cells": [
  {
   "cell_type": "markdown",
   "id": "612007ec-92f7-41b1-b86a-6962804bad33",
   "metadata": {},
   "source": [
    "# Lesson 13 - HSCIC data\n",
    "\n",
    "So let's try out another example to retrieve some data from OpenPrescribing. \n",
    "\n",
    "## Antibiotics - give 5 days max\n",
    "\n",
    "In 2024, NHS guidance recommended that 60% of amoxicillin prescriptions should be 5-days by March 2025. This is due to evidence showing there is no real benefit of courses over 5 days (for most infections). We can work out if we have hit this target with the data we have in OpenPrescribing. First we need to find out the total number of all amoxicillin prescriptions (we will look at 500 mg tablets). Then we need to work out the number of prescriptions that are 5 days long. Finally, we need to found out the fraction of the two numbers as a percentage.\n",
    "\n",
    "## Denominators and numerators\n",
    "\n",
    "Ok, this subheading just threw some new (or not) words at you. Let's talk through them.\n",
    "\n",
    "When you are comparing data, you often need to find out `how much` of a `fraction` is one `thing` compared to `another thing`. You might remember the below equation from your school days:\n",
    "\n",
    "fraction = $\\frac{\\text{numerator}}{\\text{denominator}}$\n",
    "\n",
    "So our `denominator`, for the example that we described above, is the number of all amoxicillin prescriptions, and our `numerator` is the number of prescriptions over 5-days.\n",
    "\n",
    "**Let's work out both!**\n",
    "\n",
    "## Denominator\n",
    "\n",
    "Run the below cell and see what the final result is:"
   ]
  },
  {
   "cell_type": "code",
   "execution_count": null,
   "id": "52eecf30-8a3a-4402-9e46-efa4ac2bb217",
   "metadata": {},
   "outputs": [],
   "source": [
    "from ebmdatalab import bq\n",
    "from pathlib import Path\n",
    "\n",
    "DATA_FOLDER = Path(\"data\")\n",
    "\n",
    "denominator_sql = \"\"\"\n",
    "    SELECT SUM(items) AS denominator_items\n",
    "    FROM `ebmdatalab.hscic.raw_prescribing_normalised`\n",
    "    WHERE bnf_code LIKE '0501013B0%AB'\n",
    "    \"\"\"\n",
    "\n",
    "denominator = bq.cached_read(denominator_sql, DATA_FOLDER / \"amoxcillin_denominator.csv\", use_cache=True)\n",
    "denominator"
   ]
  },
  {
   "cell_type": "markdown",
   "id": "53ce911a-c704-4653-b890-9c5745700909",
   "metadata": {},
   "source": [
    "## Numerator\n",
    "\n",
    "Run the cell below and see what you get (by the way a 5 day course of antibiotics is 3 tablets a day time 5 = 15 tablets):"
   ]
  },
  {
   "cell_type": "code",
   "execution_count": null,
   "id": "42447f73-05a7-4ebc-983a-1ddafcc9b85d",
   "metadata": {},
   "outputs": [],
   "source": [
    "numerator_sql = \"\"\"\n",
    "    SELECT SUM(items) AS numerator_items\n",
    "    FROM `ebmdatalab.hscic.raw_prescribing_normalised`\n",
    "    WHERE bnf_code LIKE '0501013B0%AB' AND quantity_per_item = 15\n",
    "    \"\"\"\n",
    "\n",
    "numerator = bq.cached_read(numerator_sql, DATA_FOLDER / \"amoxcillin_numerator.csv\", use_cache=True)\n",
    "numerator"
   ]
  },
  {
   "cell_type": "markdown",
   "id": "7e9e2632-d60c-4aaa-8002-e3a0c54173c9",
   "metadata": {},
   "source": [
    "## Fraction\n",
    "\n",
    "So we have our denominator and we have our numerator. We can then go on to work out the fraction of the two."
   ]
  },
  {
   "cell_type": "code",
   "execution_count": null,
   "id": "1f3799ec-e471-47bd-a893-bd7a69061000",
   "metadata": {},
   "outputs": [],
   "source": [
    "import pandas\n",
    "\n",
    "denominator_int = int(denominator[\"denominator_items\"][0])\n",
    "numerator_int = int(numerator[\"numerator_items\"][0])\n",
    "\n",
    "fraction = numerator_int / denominator_int if denominator_int else 0\n",
    "fraction"
   ]
  },
  {
   "cell_type": "code",
   "execution_count": null,
   "id": "184549c5-0216-4f7f-8d57-4316c08572a4",
   "metadata": {},
   "outputs": [],
   "source": [
    "percentage = fraction * 100\n",
    "print(f\"{round(percentage)}%\")"
   ]
  },
  {
   "cell_type": "markdown",
   "id": "d34c8318-ee2e-4f8e-a376-abe8e04c536e",
   "metadata": {},
   "source": [
    "So there is probably some code in the worked examples above that you may be a little confused by. Let's go through the code line by line.\n",
    "\n",
    "**But, before we do that, let's talk about comments.**\n",
    "\n",
    "## Comments\n",
    "\n",
    "Comments are just what they sound like, comments. In code, a comment is human reable text that the python interpreter just ignores. Comments in code are there to explain to us humans what some piece of code is going, or why we decided to do things the way we did. There are several ways to create comments, let's look at each one.\n",
    "\n",
    "### Single line comments\n",
    "\n",
    "A single line comment looks like this:\n",
    "\n",
    "```python\n",
    "# I am a comment that the computer ignores\n",
    "print(\"I am a piece of code that the computer DOES read and executes!\")\n",
    "```\n",
    "\n",
    "This prints out:\n",
    "\n",
    "```bash\n",
    "I am a piece of code that the computer DOES read and executes!\n",
    "```\n",
    "\n",
    "So, we are using the hashtag `#` for single line comments.\n",
    "\n",
    "You can write several lines of code with a hashtag for each line:\n",
    "\n",
    "```python\n",
    "# I am a comment that the computer ignores\n",
    "# Me too!\n",
    "print(\"I am a piece of code that the computer DOES read and executes!\")\n",
    "```\n",
    "\n",
    "### Triple quotes\n",
    "\n",
    "If you want to comment over several lines, you can use triple quotes like this:\n",
    "\n",
    "```python\n",
    "\"\"\"\n",
    "I am a very important comment.\n",
    "Only a human reads me.\n",
    "Done!\n",
    "\"\"\"\n",
    "```\n",
    "\n",
    "So that was double qoutes `\"`. You can also use single quotes `'`:\n",
    "\n",
    "```python\n",
    "'''\n",
    "I am also a very important comment.\n",
    "The computers cannot see me.\n",
    "Almost!\n",
    "'''\n",
    "```\n",
    "\n",
    "## Comments in SQL\n",
    "\n",
    "Now comments in SQL are a little different, even if they reside in your python code. If you want to add a comment to a SQL query, the you use the double hyphens `--` for single lines and the `block` comment `/*  */` for multiple lines. For example, for single lines you could have something like this:\n",
    "\n",
    "```sql\n",
    "-- This part gets all the data\n",
    "SELECT *\n",
    "-- This part tells the query which database we will be using\n",
    "FROM prescriptions;\n",
    "```\n",
    "\n",
    "And for multiple line comments, we can do it like this:\n",
    "\n",
    "```sql\n",
    "/* This select component is different.\n",
    "   It looks at the Quantity column.\n",
    "   And calculates the sum. */\n",
    "SELECT SUM(Quantity)\n",
    "/* But this FROM component is the same as before.\n",
    "   It gets the data from the presciptions database*/\n",
    "FROM prescriptions;\n",
    "```\n",
    "\n",
    "Comments are really useful, especially if you want to add information about your code. Let's use comments to talk through the above OpenPrescribing code."
   ]
  },
  {
   "cell_type": "code",
   "execution_count": null,
   "id": "1fac56d8-474d-4f7c-8dd8-2c940b4bdefc",
   "metadata": {},
   "outputs": [],
   "source": [
    "# As we have spoken about before, this line of code imports the 'bq' module so we can use\n",
    "# it in our code\n",
    "from ebmdatalab import bq\n",
    "\n",
    "# And you know this one! This import gives you the ability to interact with files and folders\n",
    "from pathlib import Path\n",
    "\n",
    "# You have also see this before, where we create a 'Path' object, referencing the 'data' folder location\n",
    "DATA_FOLDER = Path(\"data\")\n",
    "\n",
    "# Here is where we define the denominator SQL\n",
    "denominator_sql = \"\"\"\n",
    "    /* This select statement looks at the items column, adds up all of the values, \n",
    "    and displays the results under the lable `denominator_items` */\n",
    "    SELECT SUM(items) AS denominator_items\n",
    "    \n",
    "    /* This statement tells bigquery to get data from the 'ebmdatalab' project, 'hscic' dataset \n",
    "    and the 'raw_prescribing_normalised' table */ \n",
    "    FROM `ebmdatalab.hscic.raw_prescribing_normalised`\n",
    "\n",
    "    /* The LIKE keyword allows you to look for bnf_codes that match a pattern of '0501013B0%AB', \n",
    "    where % states that any number of characters can be found at this point.\n",
    "    WHERE bnf_code LIKE '0501013B0%AB' */\n",
    "    \"\"\"\n",
    "\n",
    "# Here we send the SQL query to the BigQuery data platform, save the results in the below file\n",
    "# and we are caching the data. The data is also made available to code by storing to the variable\n",
    "# 'denominator', which is a panda object (see later for details on this)!\n",
    "denominator = bq.cached_read(den_sql, DATA_FOLDER / \"amoxcillin_denominator.csv\", use_cache=True)\n",
    "\n",
    "# By just typing out a variable, JupyterLabs will print it out.\n",
    "denominator"
   ]
  },
  {
   "cell_type": "markdown",
   "id": "562f19cf-3dbb-47e1-b99a-1489919b3636",
   "metadata": {},
   "source": [
    "- By the way, the `%` character in a string is called a `wildcard`.\n",
    "- the file extension (after the fullstop) csv stands for `comma separated variables`. This just uses commans and new lines to separate out all of the data."
   ]
  },
  {
   "cell_type": "code",
   "execution_count": null,
   "id": "4ff650be-9d56-4e2b-bb60-c259d78eb8b9",
   "metadata": {},
   "outputs": [],
   "source": [
    "# Here is where we define the numerator SQL\n",
    "numerator_sql = \"\"\"\n",
    "    /* This select statement looks at the items column, adds up all of the values, \n",
    "    and displays the results under the lable `numerator_items` */\n",
    "    SELECT SUM(items) AS numerator_items\n",
    "\n",
    "    -- We get our data from the same place as that for the denominator.\n",
    "    FROM `ebmdatalab.hscic.raw_prescribing_normalised`\n",
    "\n",
    "    -- In this WHERE statement, we are also looking for prescriptions of 15 tablets\n",
    "    WHERE bnf_code LIKE '0501013B0%AB' AND quantity_per_item = 15\n",
    "    \"\"\"\n",
    "\n",
    "# Much like with denominator, we are sending an sql query, saving in a csv file and on repeat code \n",
    "# execution, we used the saved data rather than rerun the BigQuery search.\n",
    "numerator = bq.cached_read(numerator_sql, DATA_FOLDER / \"amoxcillin_numerator.csv\", use_cache=True)\n",
    "\n",
    "# Print it out!\n",
    "numerator"
   ]
  },
  {
   "cell_type": "markdown",
   "id": "4113f4f2-b886-43b6-ade9-8ee0f5523913",
   "metadata": {},
   "source": [
    "## Pandas\n",
    "\n",
    "Now when we undertake the fraction calculations, we see a new library called Pandas. What is this?\n",
    "\n",
    "The `panda` library gives you access to functionality to manipulate data stored in tables, just like in a database. Using pandas makes working with the data you download from a database, like that stored in BigQuery, much easier to work with."
   ]
  },
  {
   "cell_type": "code",
   "execution_count": null,
   "id": "4b6ede87-e4c0-4176-81a6-8a8087309d3a",
   "metadata": {},
   "outputs": [],
   "source": [
    "# Here we import the new panda library.\n",
    "import pandas\n",
    "\n",
    "\"\"\"\n",
    "This part is a little complicated, let's break it down:\n",
    "1. We reference the denominator panda object, and ask for the value in the \"denominator_items\"\n",
    "    column and row 0 (row 0 being the first row).\n",
    "2. We then convert the value into an integer (eg number). This step is needed as pandas do not \n",
    "    always get the type correct.\n",
    "\"\"\"\n",
    "denominator_int = int(denominator[\"denominator_items\"][0])\n",
    "\n",
    "# We do the same sort of calculation here\n",
    "numerator_int = int(numerator[\"numerator_items\"][0])\n",
    "\n",
    "\"\"\"\n",
    "Here we divide the numerator_int by the denominator_int. The if...else statement stops us dividing\n",
    "the two numbers if denominator is zero (which will cause an error)\n",
    "\"\"\"\n",
    "fraction = numerator_int / denominator_int if denominator_int else 0\n",
    "\n",
    "# We print out 'fraction'\n",
    "fraction"
   ]
  },
  {
   "cell_type": "markdown",
   "id": "94657b4b-3cd4-4820-85a9-c7687893d6a9",
   "metadata": {},
   "source": [
    "And finally..."
   ]
  },
  {
   "cell_type": "code",
   "execution_count": null,
   "id": "ccc8dc61-7f34-430e-914f-4f841eda30bd",
   "metadata": {},
   "outputs": [],
   "source": [
    "# We multiply fraction by 100% to get a percentage\n",
    "percentage = fraction * 100\n",
    "\n",
    "# Here we use the 'round' function to round up percentage to the next whole number\n",
    "# the f\"...\" code is called an f-string. It helps you format how something is printed to screen.\n",
    "print(f\"{round(percentage)}%\")"
   ]
  },
  {
   "cell_type": "markdown",
   "id": "1e1c7548-5910-4340-a2ec-4118c7f1f9c6",
   "metadata": {},
   "source": [
    "## And there you have it\n",
    "\n",
    "So hopefully that made sense. If not, ask a friendly Bennett Person.\n",
    "\n",
    "Now onto lesson 14!"
   ]
  }
 ],
 "metadata": {
  "kernelspec": {
   "display_name": "Python 3 (ipykernel)",
   "language": "python",
   "name": "python3"
  },
  "language_info": {
   "codemirror_mode": {
    "name": "ipython",
    "version": 3
   },
   "file_extension": ".py",
   "mimetype": "text/x-python",
   "name": "python",
   "nbconvert_exporter": "python",
   "pygments_lexer": "ipython3",
   "version": "3.12.11"
  }
 },
 "nbformat": 4,
 "nbformat_minor": 5
}
