{
 "cells": [
  {
   "cell_type": "markdown",
   "id": "3e92d212-538e-402d-bb9e-ab7dc5acb94a",
   "metadata": {},
   "source": [
    "# Lesson 6  - handson markdown¶ (ANSWERED)\n",
    "\n",
    "Welcome to lesson 6, where you start learning, practicing and working solely in JupyterLab Notebooks, rather than on the [https://bennett.wiki/](https://bennett.wiki/) pages (a Bennett Institute internal site)."
   ]
  },
  {
   "attachments": {
    "de69cecc-d744-4228-8673-2e5ab49f6f7c.png": {
     "image/png": "[encoded data removed]"
    }
   },
   "cell_type": "markdown",
   "id": "8d5a4588-91c6-4c78-89f2-b38ee4fd57a6",
   "metadata": {},
   "source": [
    "## Exercise 1 - Try out some markdown\n",
    "\n",
    "So hopefully you remember about the markdown language and its symbols that we spoke about in lesson 2. If not, then please go back to [https://bennett.wiki/](https://bennett.wiki/) `url needs updating` and read up on this language.\n",
    "\n",
    "Please write something in the grey box below. We have already made it a **markdown cell** for you, so just type in the cell and then press the run key (like the image below):\n",
    "\n",
    "![image.png](attachment:de69cecc-d744-4228-8673-2e5ab49f6f7c.png)\n",
    "\n",
    "NB: When you press the run key, the box will turn white and show you the finalised wording you wrote."
   ]
  },
  {
   "cell_type": "markdown",
   "id": "1b376b0f-3363-47f5-af85-05941d7f3a2f",
   "metadata": {},
   "source": [
    "I am some text I just entered!"
   ]
  },
  {
   "cell_type": "markdown",
   "id": "a92f7b71-7ec6-4e9b-902c-a4a2cc5ce217",
   "metadata": {},
   "source": [
    "## Exercise 2 - Heads up!\n",
    "\n",
    "For each line below, make each a lower level heading. Double tap the cell to be able to edit it!"
   ]
  },
  {
   "cell_type": "markdown",
   "id": "4d4f0445-c5ad-4cca-acfa-b73d54ce15cb",
   "metadata": {},
   "source": [
    "# This is a big header\n",
    "\n",
    "## This is a smaller header\n",
    "\n",
    "## This is even smaller"
   ]
  },
  {
   "cell_type": "markdown",
   "id": "b2c7134a-d50d-4882-9221-20951de7091a",
   "metadata": {},
   "source": [
    "## Exercise 3 - Italics!\n",
    "\n",
    "Now double tap the cell below, so that you can edit it, and make the word *italians* italic."
   ]
  },
  {
   "cell_type": "markdown",
   "id": "893ecee7-a17f-42f9-a982-e0c8cb6bc22d",
   "metadata": {},
   "source": [
    "I have to say, the *italians* make the best icecream!"
   ]
  },
  {
   "cell_type": "markdown",
   "id": "46f068cf-e42d-45f5-88a9-a3cc35941971",
   "metadata": {},
   "source": [
    "## Exercise 4 - Make it bold!\n",
    "\n",
    "Please make the word **elephant** bold"
   ]
  },
  {
   "cell_type": "markdown",
   "id": "7e7eb8cb-7ed5-4bc5-afbf-9bdcbf730c43",
   "metadata": {},
   "source": [
    "Now what did the **elephant** say?"
   ]
  },
  {
   "cell_type": "markdown",
   "id": "8f90e43c-f73d-41f5-8be6-0b408d9d8d34",
   "metadata": {},
   "source": [
    "## Exercise 5 - lists, lists everywhere!\n",
    "\n",
    "### a\n",
    "First we are going to make a bullet point list. Edit the cell below and make each line a bullet point."
   ]
  },
  {
   "cell_type": "markdown",
   "id": "243448f0-4b6b-47b3-9185-4bfcac8f0626",
   "metadata": {},
   "source": [
    "- Item number 1 - bananas\n",
    "- Item number 2 - apples\n",
    "- Item number 3 - vegetables"
   ]
  },
  {
   "cell_type": "markdown",
   "id": "f86978be-4dda-404f-8f31-107280633dcc",
   "metadata": {},
   "source": [
    "### b\n",
    "\n",
    "Next, make a nested list, indenting all the vegetables"
   ]
  },
  {
   "cell_type": "markdown",
   "id": "ea65d1a8-18fa-43f7-ac97-5357a768b13d",
   "metadata": {},
   "source": [
    "- Item number 1 - bananas\n",
    "- Item number 2 - apples\n",
    "- Item number 3 - vegetables\n",
    "    - potatoe\n",
    "    - carrot\n",
    "    - cabbage"
   ]
  },
  {
   "cell_type": "markdown",
   "id": "e69ed36b-2b43-4e70-b8de-120ac360a2aa",
   "metadata": {},
   "source": [
    "### c\n",
    "Next, make the below items into a numbered list"
   ]
  },
  {
   "cell_type": "markdown",
   "id": "745677f0-e66e-4bda-8f5f-a6fa1060ad1f",
   "metadata": {},
   "source": [
    "1. Money\n",
    "2. Wallet\n",
    "3. Pocket\n",
    "4. Trousers"
   ]
  },
  {
   "cell_type": "markdown",
   "id": "ffb36f8d-4855-4448-94f4-e3aee310a332",
   "metadata": {},
   "source": [
    "## Exercise 6 - link it!\n",
    "\n",
    "Now you are going to show us how you create a linked website in markdown. Please update the word `here` so that when you click on it it takes you to **https://www.bennett.ox.ac.uk/**."
   ]
  },
  {
   "cell_type": "markdown",
   "id": "11544b50-cdce-4751-86ba-6c4736a1a9b9",
   "metadata": {},
   "source": [
    "I am really excited to show you the Bennett Institute website. Please click [here]( https://www.bennett.ox.ac.uk/)!"
   ]
  },
  {
   "cell_type": "markdown",
   "id": "fd4b6d63-dd2b-4039-ba44-5c8e7d30816d",
   "metadata": {},
   "source": [
    "## Exercise 7 - say cheese!\n",
    "\n",
    "Please add a picture to the cell below. Use the url (website address) of\n",
    "**https://www.bennett.ox.ac.uk/images/logos/bennett.svg**."
   ]
  },
  {
   "cell_type": "markdown",
   "id": "54db00cd-317e-4962-90a6-6129a6ff59e6",
   "metadata": {},
   "source": [
    "Place picture here -> ![](https://www.bennett.ox.ac.uk/images/logos/bennett.svg)"
   ]
  },
  {
   "attachments": {
    "c9e97895-1653-4dbe-b2c4-c1e7c0f1c9d4.png": {
     "image/png": "[encoded data removed]"
    }
   },
   "cell_type": "markdown",
   "id": "347ac300-a922-46be-9937-88b9cbef02c5",
   "metadata": {},
   "source": [
    "## All done for lesson 6\n",
    "\n",
    "Now, you need to save your progress. Do this by pressing the save button (a little floppy disc for those born more recently). It looks like this:\n",
    "\n",
    "![image.png](attachment:c9e97895-1653-4dbe-b2c4-c1e7c0f1c9d4.png)\n",
    "\n",
    "Make sure to save often.\n",
    "\n",
    "Now move on to **lesson 7**.\n",
    "\n",
    "P.S. If you got stuck, then the answers can be found in the answer folder."
   ]
  }
 ],
 "metadata": {
  "kernelspec": {
   "display_name": "Python 3 (ipykernel)",
   "language": "python",
   "name": "python3"
  },
  "language_info": {
   "codemirror_mode": {
    "name": "ipython",
    "version": 3
   },
   "file_extension": ".py",
   "mimetype": "text/x-python",
   "name": "python",
   "nbconvert_exporter": "python",
   "pygments_lexer": "ipython3",
   "version": "3.12.11"
  }
 },
 "nbformat": 4,
 "nbformat_minor": 5
}
