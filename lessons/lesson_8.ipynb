{
 "cells": [
  {
   "cell_type": "markdown",
   "id": "654ee864-b38a-4571-8b40-75a6958022e8",
   "metadata": {},
   "source": [
    "# Lesson 8\n",
    "\n",
    "Let's recap what we can now do:\n",
    "\n",
    "1. Create Github accounts\n",
    "2. Create a repo from the OpenPrescribing template\n",
    "3. Open up a Codespace session from this new repo\n",
    "4. Open up JupyterLabs\n",
    "5. Follow the steps in the Notebooks\n",
    "6. Write some markdown\n",
    "7. Use Git to save both locally and back to GitHub our repo changes\n",
    "\n",
    "Not back. Let's learn something new. How about code?"
   ]
  },
  {
   "cell_type": "markdown",
   "id": "1b33b2ab-9a00-4bab-9846-9c26a1ecf380",
   "metadata": {},
   "source": [
    "Now coding is not as scary as it sounds. Yes you can make all sorts of things with code, making computers automate things, calculate things, say and play what ever you like. At the Bennett Institute, we like to use code to better understand the complex data that we collect. The data in the OpenPrescribing dataset (a collection of different types of data) gives us lots of insight into how we prescibe for our patients in the NHS, both in GP practices and now in hospitals. We will learn more about `OpenPrescibing` and its new brother `OpenPrescribing Hospitals` in later lessons. First of all, let's get you doing some really simple coding examples..."
   ]
  },
  {
   "cell_type": "markdown",
   "id": "066c4d6a-2046-4475-8ceb-68db541bee29",
   "metadata": {},
   "source": [
    "# Exercise 1 - print that thing!\n",
    "\n",
    "Whenever someone learns a new coding language, the first thing anyone does is write some code that prints out `Hello World!`. To `print out` is basically when a computer outputs some text to the screen for you.\n",
    "\n",
    "So, let's get you doing some coding. You can see a small snippet of code below. Click on the cell below, termed a `code cell` and then hit the run button on the bar above."
   ]
  },
  {
   "cell_type": "code",
   "execution_count": null,
   "id": "d815d3a7-e67f-4c57-8e65-14350874aed3",
   "metadata": {},
   "outputs": [],
   "source": [
    "print(\"Hello World!\")"
   ]
  },
  {
   "cell_type": "markdown",
   "id": "4e293f34-537b-4d75-8b34-ea4f71468e01",
   "metadata": {},
   "source": [
    "Did that work? Did you see the words `Hello World!` printing in all of its glory underneath the code snippet? If so, that is great, you ran your first piece of code. If you did not see a print out, please ask a friend (likely someone sitting next to you that has used JupyterLabs before).\n",
    "\n",
    "Ready to try some more?"
   ]
  },
  {
   "cell_type": "markdown",
   "id": "b5a8a89d-72d7-4a19-ba97-de80c1c178e4",
   "metadata": {},
   "source": [
    "## Exercise 2 - let's add that up\n",
    "\n",
    "Don't worry, we are not going to make you do any advanced quantum computing, calculus or algebra. Run each of the cells below and see what results you get."
   ]
  },
  {
   "cell_type": "code",
   "execution_count": null,
   "id": "a820bece-9df2-47cd-8104-589abf749bb0",
   "metadata": {},
   "outputs": [],
   "source": [
    "2 + 2"
   ]
  },
  {
   "cell_type": "code",
   "execution_count": null,
   "id": "7ef10d02-4f2e-4721-9630-2add76c26380",
   "metadata": {},
   "outputs": [],
   "source": [
    "10 - 3"
   ]
  },
  {
   "cell_type": "code",
   "execution_count": null,
   "id": "6ca0337a-fe6f-4f53-a9e7-3692dec46b42",
   "metadata": {},
   "outputs": [],
   "source": [
    "4 * 7"
   ]
  },
  {
   "cell_type": "code",
   "execution_count": null,
   "id": "bd0383aa-753e-45a5-9896-87bfad19550c",
   "metadata": {},
   "outputs": [],
   "source": [
    "(10 + 5) / 2"
   ]
  },
  {
   "cell_type": "markdown",
   "id": "472ea18d-befc-4af8-a9ba-a81c01d510a5",
   "metadata": {},
   "source": [
    "Did the outputs make sense to you. I hope so. Shall we move on?"
   ]
  },
  {
   "cell_type": "markdown",
   "id": "0c1092b3-f2c2-454b-8317-3fe256510b26",
   "metadata": {},
   "source": [
    "## Exercise 3 - print more than one thing!\n",
    "\n",
    "What happens when you run the cell below? Why is the output only 3? Why did you not get `100` and also `3`?"
   ]
  },
  {
   "cell_type": "code",
   "execution_count": null,
   "id": "132e0c43-84d5-4036-8d84-00e0f7959737",
   "metadata": {},
   "outputs": [],
   "source": [
    "10 * 10\n",
    "1 * 3"
   ]
  },
  {
   "cell_type": "markdown",
   "id": "a483bf64-bf1b-4bc2-a3b9-33426d40b1ad",
   "metadata": {},
   "source": [
    "What JupyterLabs does is that it only prints to screen the last line of code. So as `1 * 3` (eg 1 time 3) is the last line, only the number `3` is printed to screen. Now if you want to print both equations to screen, we can use the `print` function, like we did in **Exercise 1**. Try running the cell below."
   ]
  },
  {
   "cell_type": "code",
   "execution_count": null,
   "id": "bba86cc3-5b66-47b5-943f-b0516a89c2c6",
   "metadata": {},
   "outputs": [],
   "source": [
    "print(10 * 10)\n",
    "print(1 * 3)"
   ]
  },
  {
   "cell_type": "markdown",
   "id": "1e1d125b-20d1-44be-9313-498ec43a6696",
   "metadata": {},
   "source": [
    "## Exercise 4 - store that thing!\n",
    "\n",
    "It can be very useful to store the result from a calculation to then use later in your analysis of data. You can do this by storing the results of a calculation in a variable, and then using the value stored in that variable later on. Try running the below cell to try it out."
   ]
  },
  {
   "cell_type": "code",
   "execution_count": null,
   "id": "7fe86a6b-8a0a-4ade-8b67-6fc49d5eaa76",
   "metadata": {},
   "outputs": [],
   "source": [
    "number_of_bananas = 25\n",
    "number_of_bananas_eaten = 5\n",
    "number_of_bananas_to_share = number_of_bananas - number_of_bananas_eaten\n",
    "number_of_people_to_share_with = 4\n",
    "number_of_bananas_each = number_of_bananas_to_share / number_of_people_to_share_with\n",
    "\n",
    "print(number_of_bananas_each)"
   ]
  },
  {
   "cell_type": "markdown",
   "id": "f0f618b5-89f9-4b41-9745-0115d672c207",
   "metadata": {},
   "source": [
    "How did that go? Did you get an output of five bananas each? Also, did you notice the names of these variables and how they use underscores (eg _) between words. This is called `snake case`. This is the preferred variable naming convention for the `python` programmming lanugage, which you have just been using.\n",
    "\n",
    "Something else to notice with variable names, lik `number_of_bananas` is that there is no spaces within the variable name. If you try and place spaces inside the variable name, for example `number of bananas`, then this will cause an error and the code will not work. We don't want errors, so please don't do that!"
   ]
  }
 ],
 "metadata": {
  "kernelspec": {
   "display_name": "Python 3 (ipykernel)",
   "language": "python",
   "name": "python3"
  },
  "language_info": {
   "codemirror_mode": {
    "name": "ipython",
    "version": 3
   },
   "file_extension": ".py",
   "mimetype": "text/x-python",
   "name": "python",
   "nbconvert_exporter": "python",
   "pygments_lexer": "ipython3",
   "version": "3.12.11"
  }
 },
 "nbformat": 4,
 "nbformat_minor": 5
}
