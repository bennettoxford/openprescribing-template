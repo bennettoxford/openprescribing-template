{
 "cells": [
  {
   "cell_type": "markdown",
   "id": "2163eedd-80fb-4f8d-8a6e-896f09198495",
   "metadata": {},
   "source": [
    "# Lesson 12 - data structures in BigQuery\n",
    "\n",
    "There is A LOT of data in BigQuery. This vaste amount of data is structured into one `ebmdatalabs project`, almost 50 datasets and then 10s to 100s of individual tables in each dataset. It is mind boggling.\n",
    "\n",
    "So you might be asking, how do I even start to find, learn and understand all of this data. Well you don't. You only need to understand a few datasets, at least for now anyway. When you start wanting more diverse data, you might need to look at a few other datasets.\n",
    "\n",
    "You will find it useful to be able to look at these datasets yourself. Ask a kindly admin person to kindly grant you access to OpenPrescribing's BigQuery.\n",
    "\n",
    "## HSCIC\n",
    "\n",
    "TBC\n",
    "\n",
    "## DM+D\n",
    "\n",
    "The NHS dictionary of medicines and devices (`DM+D`) is basically a large collection of descriptions and codes, providing information about medicines and medical devices used across the NHS. The NHS has written some very informative pages covering DM+D, which you can access [here](https://www.nhsbsa.nhs.uk/pharmacies-gp-practices-and-appliance-contractors/nhs-dictionary-medicines-and-devices-dmd). There is also a Bennett Institute [DM+D browser](https://openprescribing.net/dmd/) where you can search for codes or descriptions for a medicine or device you may wish to query subsequently in OpenPrescribing's BigQuery databases.\n",
    "\n",
    "The Bennett Institute has also written some [informative blogs](https://www.bennett.ox.ac.uk/blog/series/clinical-codes/) about the DM+D and other codelists that you may find helpful to better understand these topics.\n",
    "\n",
    "We also have a Miro board (think massive digital whiteboard) which explains the [interlinks between the different DM+D concepts](https://miro.com/app/board/uXjVILgwAwk=/?share_link_id=17247934639). It is rather complex, but it may help you understand what code link to what code when you are designing your own analyses with OpenPrescribing. You may need to ask a friendly Clinical Informatician to grant you access to the Miro board.\n",
    "\n",
    "## Measures\n",
    "\n",
    "TBC"
   ]
  }
 ],
 "metadata": {
  "kernelspec": {
   "display_name": "Python 3 (ipykernel)",
   "language": "python",
   "name": "python3"
  },
  "language_info": {
   "codemirror_mode": {
    "name": "ipython",
    "version": 3
   },
   "file_extension": ".py",
   "mimetype": "text/x-python",
   "name": "python",
   "nbconvert_exporter": "python",
   "pygments_lexer": "ipython3",
   "version": "3.12.11"
  }
 },
 "nbformat": 4,
 "nbformat_minor": 5
}
