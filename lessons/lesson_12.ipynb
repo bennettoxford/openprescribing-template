{
 "cells": [
  {
   "cell_type": "markdown",
   "id": "2163eedd-80fb-4f8d-8a6e-896f09198495",
   "metadata": {},
   "source": [
    "# Lesson 12 - data structures in BigQuery\n",
    "\n",
    "There is A LOT of data in BigQuery. This vaste amount of data is structured into one datalabs project, almost 50 datasets and then 10s to 100s of individual tables each. It is mind boggling.\n",
    "\n",
    "So you might be asking, how do I even start to find, learn and understand all of this data. Well you don't. You only need to understand a few datasets, at least for now anyway. When you start wanting more diverse data, you might need to look at a few other datasets.\n",
    "\n",
    "## DM+D\n",
    "\n",
    "## HSCIC\n",
    "\n",
    "## Measures"
   ]
  }
 ],
 "metadata": {
  "kernelspec": {
   "display_name": "Python 3 (ipykernel)",
   "language": "python",
   "name": "python3"
  },
  "language_info": {
   "codemirror_mode": {
    "name": "ipython",
    "version": 3
   },
   "file_extension": ".py",
   "mimetype": "text/x-python",
   "name": "python",
   "nbconvert_exporter": "python",
   "pygments_lexer": "ipython3",
   "version": "3.12.11"
  }
 },
 "nbformat": 4,
 "nbformat_minor": 5
}
